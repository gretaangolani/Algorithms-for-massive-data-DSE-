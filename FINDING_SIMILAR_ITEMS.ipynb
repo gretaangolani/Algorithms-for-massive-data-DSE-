{
  "nbformat": 4,
  "nbformat_minor": 0,
  "metadata": {
    "colab": {
      "provenance": [],
      "collapsed_sections": [
        "SLzIh22KvVJG",
        "a5aq2Wemv06X",
        "DwFZamYScZKk",
        "VZ_OriaJuV2_",
        "cUv2bDqgD045",
        "LpxD5ioL54PX",
        "VmquPR0QnV3w"
      ],
      "authorship_tag": "ABX9TyOu3MpgHXHbG2jdBbnKV2kK",
      "include_colab_link": true
    },
    "kernelspec": {
      "name": "python3",
      "display_name": "Python 3"
    },
    "language_info": {
      "name": "python"
    }
  },
  "cells": [
    {
      "cell_type": "markdown",
      "metadata": {
        "id": "view-in-github",
        "colab_type": "text"
      },
      "source": [
        "<a href=\"https://colab.research.google.com/github/gretaangolani/Algorithms-for-massive-data-DSE-/blob/main/FINDING_SIMILAR_ITEMS.ipynb\" target=\"_parent\"><img src=\"https://colab.research.google.com/assets/colab-badge.svg\" alt=\"Open In Colab\"/></a>"
      ]
    },
    {
      "cell_type": "markdown",
      "source": [
        "#Installing apache spark, kaggle and download the dataset"
      ],
      "metadata": {
        "id": "vqYRVsg-vLnm"
      }
    },
    {
      "cell_type": "code",
      "execution_count": 1,
      "metadata": {
        "id": "hABqQkMlaG3I"
      },
      "outputs": [],
      "source": [
        "!apt-get install openjdk-8-jdk-headless -qq > /dev/null\n",
        "!wget -q http://www-eu.apache.org/dist/spark/spark-3.5.0/spark-3.5.0-bin-hadoop3.tgz\n",
        "!tar xf spark-3.5.0-bin-hadoop3.tgz\n",
        "%pip install -q findspark\n",
        "\n",
        "import os\n",
        "os.environ[\"JAVA_HOME\"] = \"/usr/lib/jvm/java-8-openjdk-amd64\"\n",
        "os.environ[\"SPARK_HOME\"] = \"/content/spark-3.5.0-bin-hadoop3\"\n",
        "\n",
        "import findspark\n",
        "findspark.init(\"spark-3.5.0-bin-hadoop3\")# SPARK_HOME\n",
        "from pyspark.sql import SparkSession\n",
        "spark = SparkSession.builder.master(\"local[*]\").getOrCreate()\n",
        "sc = spark.sparkContext"
      ]
    },
    {
      "cell_type": "code",
      "source": [
        "import pyspark\n",
        "type(spark)\n",
        "\n",
        "!pip install -q kaggle"
      ],
      "metadata": {
        "id": "gX910WsxvCVF"
      },
      "execution_count": 2,
      "outputs": []
    },
    {
      "cell_type": "code",
      "source": [
        "from google.colab import files\n",
        "files.upload()"
      ],
      "metadata": {
        "colab": {
          "base_uri": "https://localhost:8080/",
          "height": 90
        },
        "id": "CwhNXLQWvEBF",
        "outputId": "3eef3192-e0fa-4e9a-edac-67ec196bfb85"
      },
      "execution_count": 3,
      "outputs": [
        {
          "output_type": "display_data",
          "data": {
            "text/plain": [
              "<IPython.core.display.HTML object>"
            ],
            "text/html": [
              "\n",
              "     <input type=\"file\" id=\"files-24f4cf21-3d9e-47a6-970d-213a03b5c1b6\" name=\"files[]\" multiple disabled\n",
              "        style=\"border:none\" />\n",
              "     <output id=\"result-24f4cf21-3d9e-47a6-970d-213a03b5c1b6\">\n",
              "      Upload widget is only available when the cell has been executed in the\n",
              "      current browser session. Please rerun this cell to enable.\n",
              "      </output>\n",
              "      <script>// Copyright 2017 Google LLC\n",
              "//\n",
              "// Licensed under the Apache License, Version 2.0 (the \"License\");\n",
              "// you may not use this file except in compliance with the License.\n",
              "// You may obtain a copy of the License at\n",
              "//\n",
              "//      http://www.apache.org/licenses/LICENSE-2.0\n",
              "//\n",
              "// Unless required by applicable law or agreed to in writing, software\n",
              "// distributed under the License is distributed on an \"AS IS\" BASIS,\n",
              "// WITHOUT WARRANTIES OR CONDITIONS OF ANY KIND, either express or implied.\n",
              "// See the License for the specific language governing permissions and\n",
              "// limitations under the License.\n",
              "\n",
              "/**\n",
              " * @fileoverview Helpers for google.colab Python module.\n",
              " */\n",
              "(function(scope) {\n",
              "function span(text, styleAttributes = {}) {\n",
              "  const element = document.createElement('span');\n",
              "  element.textContent = text;\n",
              "  for (const key of Object.keys(styleAttributes)) {\n",
              "    element.style[key] = styleAttributes[key];\n",
              "  }\n",
              "  return element;\n",
              "}\n",
              "\n",
              "// Max number of bytes which will be uploaded at a time.\n",
              "const MAX_PAYLOAD_SIZE = 100 * 1024;\n",
              "\n",
              "function _uploadFiles(inputId, outputId) {\n",
              "  const steps = uploadFilesStep(inputId, outputId);\n",
              "  const outputElement = document.getElementById(outputId);\n",
              "  // Cache steps on the outputElement to make it available for the next call\n",
              "  // to uploadFilesContinue from Python.\n",
              "  outputElement.steps = steps;\n",
              "\n",
              "  return _uploadFilesContinue(outputId);\n",
              "}\n",
              "\n",
              "// This is roughly an async generator (not supported in the browser yet),\n",
              "// where there are multiple asynchronous steps and the Python side is going\n",
              "// to poll for completion of each step.\n",
              "// This uses a Promise to block the python side on completion of each step,\n",
              "// then passes the result of the previous step as the input to the next step.\n",
              "function _uploadFilesContinue(outputId) {\n",
              "  const outputElement = document.getElementById(outputId);\n",
              "  const steps = outputElement.steps;\n",
              "\n",
              "  const next = steps.next(outputElement.lastPromiseValue);\n",
              "  return Promise.resolve(next.value.promise).then((value) => {\n",
              "    // Cache the last promise value to make it available to the next\n",
              "    // step of the generator.\n",
              "    outputElement.lastPromiseValue = value;\n",
              "    return next.value.response;\n",
              "  });\n",
              "}\n",
              "\n",
              "/**\n",
              " * Generator function which is called between each async step of the upload\n",
              " * process.\n",
              " * @param {string} inputId Element ID of the input file picker element.\n",
              " * @param {string} outputId Element ID of the output display.\n",
              " * @return {!Iterable<!Object>} Iterable of next steps.\n",
              " */\n",
              "function* uploadFilesStep(inputId, outputId) {\n",
              "  const inputElement = document.getElementById(inputId);\n",
              "  inputElement.disabled = false;\n",
              "\n",
              "  const outputElement = document.getElementById(outputId);\n",
              "  outputElement.innerHTML = '';\n",
              "\n",
              "  const pickedPromise = new Promise((resolve) => {\n",
              "    inputElement.addEventListener('change', (e) => {\n",
              "      resolve(e.target.files);\n",
              "    });\n",
              "  });\n",
              "\n",
              "  const cancel = document.createElement('button');\n",
              "  inputElement.parentElement.appendChild(cancel);\n",
              "  cancel.textContent = 'Cancel upload';\n",
              "  const cancelPromise = new Promise((resolve) => {\n",
              "    cancel.onclick = () => {\n",
              "      resolve(null);\n",
              "    };\n",
              "  });\n",
              "\n",
              "  // Wait for the user to pick the files.\n",
              "  const files = yield {\n",
              "    promise: Promise.race([pickedPromise, cancelPromise]),\n",
              "    response: {\n",
              "      action: 'starting',\n",
              "    }\n",
              "  };\n",
              "\n",
              "  cancel.remove();\n",
              "\n",
              "  // Disable the input element since further picks are not allowed.\n",
              "  inputElement.disabled = true;\n",
              "\n",
              "  if (!files) {\n",
              "    return {\n",
              "      response: {\n",
              "        action: 'complete',\n",
              "      }\n",
              "    };\n",
              "  }\n",
              "\n",
              "  for (const file of files) {\n",
              "    const li = document.createElement('li');\n",
              "    li.append(span(file.name, {fontWeight: 'bold'}));\n",
              "    li.append(span(\n",
              "        `(${file.type || 'n/a'}) - ${file.size} bytes, ` +\n",
              "        `last modified: ${\n",
              "            file.lastModifiedDate ? file.lastModifiedDate.toLocaleDateString() :\n",
              "                                    'n/a'} - `));\n",
              "    const percent = span('0% done');\n",
              "    li.appendChild(percent);\n",
              "\n",
              "    outputElement.appendChild(li);\n",
              "\n",
              "    const fileDataPromise = new Promise((resolve) => {\n",
              "      const reader = new FileReader();\n",
              "      reader.onload = (e) => {\n",
              "        resolve(e.target.result);\n",
              "      };\n",
              "      reader.readAsArrayBuffer(file);\n",
              "    });\n",
              "    // Wait for the data to be ready.\n",
              "    let fileData = yield {\n",
              "      promise: fileDataPromise,\n",
              "      response: {\n",
              "        action: 'continue',\n",
              "      }\n",
              "    };\n",
              "\n",
              "    // Use a chunked sending to avoid message size limits. See b/62115660.\n",
              "    let position = 0;\n",
              "    do {\n",
              "      const length = Math.min(fileData.byteLength - position, MAX_PAYLOAD_SIZE);\n",
              "      const chunk = new Uint8Array(fileData, position, length);\n",
              "      position += length;\n",
              "\n",
              "      const base64 = btoa(String.fromCharCode.apply(null, chunk));\n",
              "      yield {\n",
              "        response: {\n",
              "          action: 'append',\n",
              "          file: file.name,\n",
              "          data: base64,\n",
              "        },\n",
              "      };\n",
              "\n",
              "      let percentDone = fileData.byteLength === 0 ?\n",
              "          100 :\n",
              "          Math.round((position / fileData.byteLength) * 100);\n",
              "      percent.textContent = `${percentDone}% done`;\n",
              "\n",
              "    } while (position < fileData.byteLength);\n",
              "  }\n",
              "\n",
              "  // All done.\n",
              "  yield {\n",
              "    response: {\n",
              "      action: 'complete',\n",
              "    }\n",
              "  };\n",
              "}\n",
              "\n",
              "scope.google = scope.google || {};\n",
              "scope.google.colab = scope.google.colab || {};\n",
              "scope.google.colab._files = {\n",
              "  _uploadFiles,\n",
              "  _uploadFilesContinue,\n",
              "};\n",
              "})(self);\n",
              "</script> "
            ]
          },
          "metadata": {}
        },
        {
          "output_type": "stream",
          "name": "stdout",
          "text": [
            "Saving kaggle.json to kaggle.json\n"
          ]
        },
        {
          "output_type": "execute_result",
          "data": {
            "text/plain": [
              "{'kaggle.json': b'{\"username\":\"gretaangolani\",\"key\":\"ec75a3d356fd7115de52b723b475e372\"}'}"
            ]
          },
          "metadata": {},
          "execution_count": 3
        }
      ]
    },
    {
      "cell_type": "code",
      "source": [
        "!mkdir ~/.kaggle\n",
        "!cp kaggle.json ~/.kaggle/\n",
        "! chmod 600 ~/.kaggle/kaggle.json"
      ],
      "metadata": {
        "id": "AhNvizI1vGGQ"
      },
      "execution_count": 4,
      "outputs": []
    },
    {
      "cell_type": "code",
      "source": [
        "! kaggle datasets list"
      ],
      "metadata": {
        "colab": {
          "base_uri": "https://localhost:8080/"
        },
        "id": "kFRyI9aDvHsn",
        "outputId": "6b4663df-6ab6-4c77-f90f-a8b8a478b47e"
      },
      "execution_count": 5,
      "outputs": [
        {
          "output_type": "stream",
          "name": "stdout",
          "text": [
            "ref                                                                 title                                             size  lastUpdated          downloadCount  voteCount  usabilityRating  \n",
            "------------------------------------------------------------------  -----------------------------------------------  -----  -------------------  -------------  ---------  ---------------  \n",
            "thedrcat/daigt-v2-train-dataset                                     DAIGT V2 Train Dataset                            29MB  2023-11-16 01:38:36           1756        178  1.0              \n",
            "muhammadbinimran/housing-price-prediction-data                      Housing Price Prediction Data                    763KB  2023-11-21 17:56:32           7779        140  1.0              \n",
            "jocelyndumlao/cardiovascular-disease-dataset                        Cardiovascular_Disease_Dataset                   411KB  2023-12-09 06:51:28           1062         48  1.0              \n",
            "jeremylarcher/american-house-prices-and-demographics-of-top-cities  American House Prices                            666KB  2023-12-09 16:28:27            688         26  0.9411765        \n",
            "thedevastator/netflix-imdb-scores                                   Netflix IMDB Scores                              699KB  2023-12-03 14:10:34           2866         46  1.0              \n",
            "asaniczka/crimes-in-los-angeles-2020-2023                           Los Angeles Crime Data 2020-2023                  47MB  2023-12-10 18:03:39            531         26  1.0              \n",
            "henryshan/starbucks                                                 Starbucks                                          5KB  2023-12-06 03:07:49           1810         43  1.0              \n",
            "derrekdevon/real-estate-sales-2001-2020                             Real Estate Sales 2001-2020                       28MB  2023-12-07 15:36:26           1108         28  1.0              \n",
            "thedevastator/spotify-tracks-genre-dataset                          Spotify Tracks Genre                               8MB  2023-11-30 04:25:48           2203         60  1.0              \n",
            "thedrcat/daigt-proper-train-dataset                                 DAIGT Proper Train Dataset                       119MB  2023-11-05 14:03:25           1697        146  1.0              \n",
            "thedevastator/hotel-bookings-analysis                               Hotel Bookings Analysis                            1MB  2023-12-06 06:17:07            699         25  1.0              \n",
            "carlmcbrideellis/llm-7-prompt-training-dataset                      LLM: 7 prompt training dataset                    41MB  2023-11-15 07:32:56           1660        123  1.0              \n",
            "joebeachcapital/30000-spotify-songs                                 30000 Spotify Songs                                3MB  2023-11-01 06:06:43          11813        242  1.0              \n",
            "jacksondivakarr/student-classification-dataset                      Student Classification Dataset                    15KB  2023-12-02 16:23:43           1862         35  1.0              \n",
            "andreinovikov/olympic-games                                         Olympic Games                                     13KB  2023-11-15 18:28:55           1681         31  1.0              \n",
            "adampq/air-quality-index-by-state-1980-2022                         Air Quality Index by State 1980 - 2022           155KB  2023-12-04 17:57:10           1100         28  1.0              \n",
            "gabrielluizone/high-school-alcoholism-and-academic-performance      High School Alcoholism and Academic Performance  207KB  2023-12-02 17:56:36           1004         27  1.0              \n",
            "ddosad/auto-sales-data                                              Automobile Sales data                             79KB  2023-11-18 12:36:41           5269         88  1.0              \n",
            "chaudharyanshul/airline-reviews                                     Airline Reviews                                    1MB  2023-11-23 01:44:49           1327         29  1.0              \n",
            "nelgiriyewithana/world-educational-data                             World Educational Data                             9KB  2023-11-04 06:10:17           9481        187  1.0              \n"
          ]
        }
      ]
    },
    {
      "cell_type": "code",
      "source": [
        "!kaggle datasets download -d xhlulu/medal-emnlp"
      ],
      "metadata": {
        "colab": {
          "base_uri": "https://localhost:8080/"
        },
        "id": "L9mjrm1avJU5",
        "outputId": "c80d8d1d-7ec6-4442-bbbd-6bb0071cb9dd"
      },
      "execution_count": 5,
      "outputs": [
        {
          "output_type": "stream",
          "name": "stdout",
          "text": [
            "Downloading medal-emnlp.zip to /content\n",
            "100% 6.81G/6.82G [01:24<00:00, 132MB/s]\n",
            "100% 6.82G/6.82G [01:24<00:00, 86.9MB/s]\n"
          ]
        }
      ]
    },
    {
      "cell_type": "code",
      "source": [
        "!unzip medal-emnlp.zip full_data.csv"
      ],
      "metadata": {
        "colab": {
          "base_uri": "https://localhost:8080/"
        },
        "id": "DlbKA2MNvKw0",
        "outputId": "eb7da1bc-696f-4fdc-e73d-188b8ff537f6"
      },
      "execution_count": 6,
      "outputs": [
        {
          "output_type": "stream",
          "name": "stdout",
          "text": [
            "Archive:  medal-emnlp.zip\n",
            "  inflating: full_data.csv           \n"
          ]
        }
      ]
    },
    {
      "cell_type": "markdown",
      "source": [
        "#Loading the data and first analysis"
      ],
      "metadata": {
        "id": "wxeG6YJ-wgRG"
      }
    },
    {
      "cell_type": "code",
      "source": [
        "from pyspark.sql import SparkSession\n",
        "from pyspark.ml.feature import CountVectorizer, StopWordsRemover\n",
        "from pyspark.sql.functions import split, udf, explode, size, monotonically_increasing_id, max, regexp_replace\n",
        "from pyspark.sql.types import ArrayType, StringType, IntegerType\n",
        "\n",
        "# Starting Spark Session\n",
        "spark = SparkSession.builder.appName(\"Similar_Items\").getOrCreate()\n",
        "df = spark.read.csv(\"full_data.csv\", header=True)\n",
        "df = df.select ('TEXT', 'LABEL').withColumn(\"doc_id\", monotonically_increasing_id())\n",
        "df_new = df.select('TEXT', 'doc_id')\n",
        "df_new.show()"
      ],
      "metadata": {
        "colab": {
          "base_uri": "https://localhost:8080/"
        },
        "id": "Se8RPp6Nwfqi",
        "outputId": "f738a06f-c18a-45e0-824f-26338ba8a99a"
      },
      "execution_count": 18,
      "outputs": [
        {
          "output_type": "stream",
          "name": "stdout",
          "text": [
            "+--------------------+------+\n",
            "|                TEXT|doc_id|\n",
            "+--------------------+------+\n",
            "|alphabisabolol ha...|     0|\n",
            "|a report is given...|     1|\n",
            "|the virostatic co...|     2|\n",
            "|rmi rmi and rmi a...|     3|\n",
            "|a doubleblind stu...|     4|\n",
            "|stroma from eithe...|     5|\n",
            "|the effect of the...|     6|\n",
            "|in one experiment...|     7|\n",
            "|the presence of a...|     8|\n",
            "|the reaction of g...|     9|\n",
            "|choline acetyltra...|    10|\n",
            "|increasing concen...|    11|\n",
            "|the properties of...|    12|\n",
            "|primary amines re...|    13|\n",
            "|a purification pr...|    14|\n",
            "|dihydrofolate red...|    15|\n",
            "|ionization effect...|    16|\n",
            "|kinetic analyses ...|    17|\n",
            "|the nearultraviol...|    18|\n",
            "|the circular pola...|    19|\n",
            "+--------------------+------+\n",
            "only showing top 20 rows\n",
            "\n"
          ]
        }
      ]
    },
    {
      "cell_type": "code",
      "source": [
        "df.count()"
      ],
      "metadata": {
        "colab": {
          "base_uri": "https://localhost:8080/"
        },
        "id": "OwR6XBLHyI8X",
        "outputId": "eaabe644-3ea6-4c49-9f94-9ce0664a62bc"
      },
      "execution_count": 19,
      "outputs": [
        {
          "output_type": "execute_result",
          "data": {
            "text/plain": [
              "14393619"
            ]
          },
          "metadata": {},
          "execution_count": 19
        }
      ]
    },
    {
      "cell_type": "code",
      "source": [
        "# Sample a subset of the original dataframe; I have uncommented each time the sample to analyze\n",
        "\n",
        "#Sample1\n",
        "#fraction = 50000.0 / df_new.count()\n",
        "#subset_df = df_new.sample(withReplacement=False, fraction=fraction)\n",
        "\n",
        "#Sample2\n",
        "#fraction = 100000.0 / df_new.count()\n",
        "#subset_df = df_new.sample(withReplacement=False, fraction=fraction)\n",
        "\n",
        "#Sample3\n",
        "#fraction = 150000.0 / df_new.count()\n",
        "#subset_df = df_new.sample(withReplacement=False, fraction=fraction)\n",
        "\n",
        "#Sample4\n",
        "#fraction = 200000.0 / df_new.count()\n",
        "#subset_df = df_new.sample(withReplacement=False, fraction=fraction)\n",
        "\n",
        "#Sample5\n",
        "fraction = 250000.0 / df_new.count()\n",
        "subset_df = df_new.sample(withReplacement=False, fraction=fraction)"
      ],
      "metadata": {
        "id": "EI5hxVZjwnkn"
      },
      "execution_count": 20,
      "outputs": []
    },
    {
      "cell_type": "code",
      "source": [
        "# Tokenization (using regex)\n",
        "subset_df = subset_df.withColumn(\"processed_text\", split(regexp_replace(subset_df[\"TEXT\"], '[^\\w\\s]', ''), \" \"))\n",
        "\n",
        "# Convert text to lowercase\n",
        "@udf(ArrayType(StringType()))\n",
        "def to_lowercase(text):\n",
        "    return [word.lower() for word in text]\n",
        "\n",
        "subset_df = subset_df.withColumn(\"processed_text\", to_lowercase(subset_df[\"processed_text\"]))\n",
        "\n",
        "# Remove stop words\n",
        "remover = StopWordsRemover(inputCol=\"processed_text\", outputCol=\"filtered_text\")\n",
        "subset_df = remover.transform(subset_df)\n",
        "\n",
        "subset_df.show()"
      ],
      "metadata": {
        "colab": {
          "base_uri": "https://localhost:8080/"
        },
        "id": "sxL9inzGwyGE",
        "outputId": "e160db7b-fe51-4187-86e5-095535454eb9"
      },
      "execution_count": 21,
      "outputs": [
        {
          "output_type": "stream",
          "name": "stdout",
          "text": [
            "+--------------------+------+--------------------+--------------------+\n",
            "|                TEXT|doc_id|      processed_text|       filtered_text|\n",
            "+--------------------+------+--------------------+--------------------+\n",
            "|location of elect...|   188|[location, of, el...|[location, electr...|\n",
            "|the proceedings o...|   324|[the, proceedings...|[proceedings, con...|\n",
            "|the rates at whic...|   374|[the, rates, at, ...|[rates, pentobarb...|\n",
            "|fiftyeight neurot...|   476|[fiftyeight, neur...|[fiftyeight, neur...|\n",
            "|the metabolism of...|   482|[the, metabolism,...|[metabolism, cgri...|\n",
            "|from a crude extr...|   516|[from, a, crude, ...|[crude, extract, ...|\n",
            "|it was shown by g...|   517|[it, was, shown, ...|[shown, gel, elec...|\n",
            "|beef kidney hydro...|   565|[beef, kidney, hy...|[beef, kidney, hy...|\n",
            "|the observed stat...|   571|[the, observed, s...|[observed, static...|\n",
            "|Arg and Met trans...|   608|[arg, and, met, t...|[arg, met, transp...|\n",
            "|the injury due to...|   675|[the, injury, due...|[injury, due, bur...|\n",
            "|new colorimetric ...|   713|[new, colorimetri...|[new, colorimetri...|\n",
            "|the intercalative...|   759|[the, intercalati...|[intercalative, t...|\n",
            "|i.v. of carrageen...|   814|[iv, of, carragee...|[iv, carrageenin,...|\n",
            "|this study uses a...|   848|[this, study, use...|[study, uses, tas...|\n",
            "|using results in ...|   879|[using, results, ...|[using, results, ...|\n",
            "|rat CL IMT aminot...|   928|[rat, cl, imt, am...|[rat, cl, imt, am...|\n",
            "|compared with hum...|   954|[compared, with, ...|[compared, human,...|\n",
            "|prompt and delaye...|   975|[prompt, and, del...|[prompt, delayed,...|\n",
            "|we describe a sim...|  1018|[we, describe, a,...|[describe, simple...|\n",
            "+--------------------+------+--------------------+--------------------+\n",
            "only showing top 20 rows\n",
            "\n"
          ]
        }
      ]
    },
    {
      "cell_type": "markdown",
      "source": [
        "#Applying Shingling, Minhashing and LSH"
      ],
      "metadata": {
        "id": "iqVyV_-BV4c0"
      }
    },
    {
      "cell_type": "code",
      "source": [
        "from pyspark.sql.functions import sort_array\n",
        "\n",
        "k = 5\n",
        "\n",
        "@udf(ArrayType(IntegerType()))\n",
        "def shingling(text):\n",
        "    return [hash(' '.join(text[i:i+k])) for i in range(len(text) - k + 1)]\n",
        "\n",
        "subset_df = subset_df.withColumn(\"shingles\", shingling(subset_df[\"filtered_text\"]))\n",
        "subset_df = subset_df.withColumn(\"sorted_shingles\", sort_array(subset_df[\"shingles\"]))\n",
        "num_hashes = 100\n",
        "hash_values = range(num_hashes)\n",
        "\n",
        "@udf(ArrayType(IntegerType()))\n",
        "def minhash_signature(sorted_shingles):\n",
        "    signature = []\n",
        "    for hash_val in hash_values:\n",
        "        min_hash = float('inf')\n",
        "        for shingle in sorted_shingles:\n",
        "            hash_code = hash(f\"{shingle}{hash_val}\")\n",
        "            min_hash = min(min_hash, hash_code)\n",
        "        signature.append(min_hash)\n",
        "    return signature\n",
        "\n",
        "subset_df = subset_df.withColumn(\"minhash_signature\", minhash_signature(subset_df[\"sorted_shingles\"]))\n",
        "subset_df.show()"
      ],
      "metadata": {
        "colab": {
          "base_uri": "https://localhost:8080/"
        },
        "id": "HXucZdJK5c_q",
        "outputId": "cad4555a-fcef-411a-c7f4-2ae620adfbf3"
      },
      "execution_count": 22,
      "outputs": [
        {
          "output_type": "stream",
          "name": "stdout",
          "text": [
            "+--------------------+------+--------------------+--------------------+--------------------+--------------------+--------------------+\n",
            "|                TEXT|doc_id|      processed_text|       filtered_text|            shingles|     sorted_shingles|   minhash_signature|\n",
            "+--------------------+------+--------------------+--------------------+--------------------+--------------------+--------------------+\n",
            "|location of elect...|   188|[location, of, el...|[location, electr...|[1767313138, 1172...|[-2117062463, -21...|[1951472397, -192...|\n",
            "|the proceedings o...|   324|[the, proceedings...|[proceedings, con...|[-822431729, -192...|[-1953313038, -19...|[-1525146878, -14...|\n",
            "|the rates at whic...|   374|[the, rates, at, ...|[rates, pentobarb...|[-240393048, 6317...|[-2077512425, -20...|[74547264, 147813...|\n",
            "|fiftyeight neurot...|   476|[fiftyeight, neur...|[fiftyeight, neur...|[272697644, 37303...|[-2086144487, -20...|[1314311709, -987...|\n",
            "|the metabolism of...|   482|[the, metabolism,...|[metabolism, cgri...|[-1367196122, 208...|[-2022094187, -19...|[1483958618, 9248...|\n",
            "|from a crude extr...|   516|[from, a, crude, ...|[crude, extract, ...|[-1993947932, -19...|[-2124346435, -21...|[-1261147081, 198...|\n",
            "|it was shown by g...|   517|[it, was, shown, ...|[shown, gel, elec...|[1992725232, -968...|[-2124118075, -20...|[566628518, 34574...|\n",
            "|beef kidney hydro...|   565|[beef, kidney, hy...|[beef, kidney, hy...|[201622538, -9605...|[-2131778774, -21...|[448939456, 49087...|\n",
            "|the observed stat...|   571|[the, observed, s...|[observed, static...|[-948188655, 1324...|[-2078339765, -20...|[-2036783109, -62...|\n",
            "|Arg and Met trans...|   608|[arg, and, met, t...|[arg, met, transp...|[118634297, 11772...|[-2147096521, -21...|[525528764, 43330...|\n",
            "|the injury due to...|   675|[the, injury, due...|[injury, due, bur...|[-739801467, -163...|[-1926539143, -18...|[-943111664, 7280...|\n",
            "|new colorimetric ...|   713|[new, colorimetri...|[new, colorimetri...|[-130185214, 5323...|[-2097322678, -15...|[93019675, -11112...|\n",
            "|the intercalative...|   759|[the, intercalati...|[intercalative, t...|[2039397738, -202...|[-2113524793, -20...|[-1166851815, 118...|\n",
            "|i.v. of carrageen...|   814|[iv, of, carragee...|[iv, carrageenin,...|[1485039766, -313...|[-2132393616, -21...|[-1586731038, 103...|\n",
            "|this study uses a...|   848|[this, study, use...|[study, uses, tas...|[1465219103, 1010...|[-2128111235, -20...|[-2115977392, -13...|\n",
            "|using results in ...|   879|[using, results, ...|[using, results, ...|[1460848439, -444...|[-2145099207, -20...|[1830504327, 8799...|\n",
            "|rat CL IMT aminot...|   928|[rat, cl, imt, am...|[rat, cl, imt, am...|[1426114953, -564...|[-2109512146, -20...|[804622609, 76747...|\n",
            "|compared with hum...|   954|[compared, with, ...|[compared, human,...|[-1675461205, -17...|[-2143830893, -21...|[597696869, -7769...|\n",
            "|prompt and delaye...|   975|[prompt, and, del...|[prompt, delayed,...|[-765784418, -270...|[-2120973482, -20...|[-1712512715, 565...|\n",
            "|we describe a sim...|  1018|[we, describe, a,...|[describe, simple...|[33684798, 161793...|[-2136396168, -21...|[-850998499, 1374...|\n",
            "+--------------------+------+--------------------+--------------------+--------------------+--------------------+--------------------+\n",
            "only showing top 20 rows\n",
            "\n"
          ]
        }
      ]
    },
    {
      "cell_type": "code",
      "source": [
        "b = 25\n",
        "r = 4\n",
        "assert b * r == num_hashes\n",
        "\n",
        "@udf(ArrayType(IntegerType()))\n",
        "def lsh_banding(minhash_signature):\n",
        "    bands = [minhash_signature[i:i + r] for i in range(0, num_hashes, r)]\n",
        "    bucket_ids = [hash(\"\".join(map(str, band))) for band in bands]\n",
        "    return bucket_ids\n",
        "\n",
        "subset_df = subset_df.withColumn(\"buckets\", lsh_banding(subset_df[\"minhash_signature\"]))\n",
        "subset_df.show()"
      ],
      "metadata": {
        "colab": {
          "base_uri": "https://localhost:8080/"
        },
        "id": "b-t-1Q_-w5an",
        "outputId": "0f90b000-0c11-42b9-dd5b-8bd464b3a990"
      },
      "execution_count": 23,
      "outputs": [
        {
          "output_type": "stream",
          "name": "stdout",
          "text": [
            "+--------------------+------+--------------------+--------------------+--------------------+--------------------+--------------------+--------------------+\n",
            "|                TEXT|doc_id|      processed_text|       filtered_text|            shingles|     sorted_shingles|   minhash_signature|             buckets|\n",
            "+--------------------+------+--------------------+--------------------+--------------------+--------------------+--------------------+--------------------+\n",
            "|location of elect...|   188|[location, of, el...|[location, electr...|[1767313138, 1172...|[-2117062463, -21...|[1951472397, -192...|[-84402936, 34537...|\n",
            "|the proceedings o...|   324|[the, proceedings...|[proceedings, con...|[-822431729, -192...|[-1953313038, -19...|[-1525146878, -14...|[-1908134915, 772...|\n",
            "|the rates at whic...|   374|[the, rates, at, ...|[rates, pentobarb...|[-240393048, 6317...|[-2077512425, -20...|[74547264, 147813...|[-411020282, 2891...|\n",
            "|fiftyeight neurot...|   476|[fiftyeight, neur...|[fiftyeight, neur...|[272697644, 37303...|[-2086144487, -20...|[1314311709, -987...|[2008775617, -521...|\n",
            "|the metabolism of...|   482|[the, metabolism,...|[metabolism, cgri...|[-1367196122, 208...|[-2022094187, -19...|[1483958618, 9248...|[-1410826245, -87...|\n",
            "|from a crude extr...|   516|[from, a, crude, ...|[crude, extract, ...|[-1993947932, -19...|[-2124346435, -21...|[-1261147081, 198...|[760448533, 10260...|\n",
            "|it was shown by g...|   517|[it, was, shown, ...|[shown, gel, elec...|[1992725232, -968...|[-2124118075, -20...|[566628518, 34574...|[633595087, 57669...|\n",
            "|beef kidney hydro...|   565|[beef, kidney, hy...|[beef, kidney, hy...|[201622538, -9605...|[-2131778774, -21...|[448939456, 49087...|[1632906173, -191...|\n",
            "|the observed stat...|   571|[the, observed, s...|[observed, static...|[-948188655, 1324...|[-2078339765, -20...|[-2036783109, -62...|[184446542, -3866...|\n",
            "|Arg and Met trans...|   608|[arg, and, met, t...|[arg, met, transp...|[118634297, 11772...|[-2147096521, -21...|[525528764, 43330...|[935600073, -1854...|\n",
            "|the injury due to...|   675|[the, injury, due...|[injury, due, bur...|[-739801467, -163...|[-1926539143, -18...|[-943111664, 7280...|[1450665354, 1253...|\n",
            "|new colorimetric ...|   713|[new, colorimetri...|[new, colorimetri...|[-130185214, 5323...|[-2097322678, -15...|[93019675, -11112...|[-749705485, 1398...|\n",
            "|the intercalative...|   759|[the, intercalati...|[intercalative, t...|[2039397738, -202...|[-2113524793, -20...|[-1166851815, 118...|[-748818518, -418...|\n",
            "|i.v. of carrageen...|   814|[iv, of, carragee...|[iv, carrageenin,...|[1485039766, -313...|[-2132393616, -21...|[-1586731038, 103...|[-1237038180, -96...|\n",
            "|this study uses a...|   848|[this, study, use...|[study, uses, tas...|[1465219103, 1010...|[-2128111235, -20...|[-2115977392, -13...|[1834072042, 1849...|\n",
            "|using results in ...|   879|[using, results, ...|[using, results, ...|[1460848439, -444...|[-2145099207, -20...|[1830504327, 8799...|[-511210761, 2097...|\n",
            "|rat CL IMT aminot...|   928|[rat, cl, imt, am...|[rat, cl, imt, am...|[1426114953, -564...|[-2109512146, -20...|[804622609, 76747...|[90125355, -16006...|\n",
            "|compared with hum...|   954|[compared, with, ...|[compared, human,...|[-1675461205, -17...|[-2143830893, -21...|[597696869, -7769...|[1118436650, 8702...|\n",
            "|prompt and delaye...|   975|[prompt, and, del...|[prompt, delayed,...|[-765784418, -270...|[-2120973482, -20...|[-1712512715, 565...|[-296200309, -188...|\n",
            "|we describe a sim...|  1018|[we, describe, a,...|[describe, simple...|[33684798, 161793...|[-2136396168, -21...|[-850998499, 1374...|[-1179096244, -18...|\n",
            "+--------------------+------+--------------------+--------------------+--------------------+--------------------+--------------------+--------------------+\n",
            "only showing top 20 rows\n",
            "\n"
          ]
        }
      ]
    },
    {
      "cell_type": "markdown",
      "source": [
        "#Jaccard Similarity and Label Analysis"
      ],
      "metadata": {
        "id": "mjWg8EQbV_1E"
      }
    },
    {
      "cell_type": "code",
      "source": [
        "from pyspark.sql.functions import array_distinct\n",
        "from pyspark.sql.functions import collect_list\n",
        "\n",
        "#Drop the same documents in the subset\n",
        "subset_df = subset_df.dropDuplicates(['TEXT'])\n",
        "\n",
        "# Explode subset_df\n",
        "exploded_df = subset_df.withColumn(\"bucket\", explode(subset_df[\"buckets\"]))\n",
        "\n",
        "# Group by bucket and collect the doc_ids\n",
        "candidate_pairs = exploded_df.groupBy(\"bucket\").agg(array_distinct(collect_list(\"doc_id\")).alias(\"doc_ids\"))\n",
        "\n",
        "# Filter for buckets and take only the candidate pairs with more than one dec_ids\n",
        "candidate_pairs = candidate_pairs.filter(size(candidate_pairs[\"doc_ids\"]) > 1)"
      ],
      "metadata": {
        "id": "drOuBmsaw9js"
      },
      "execution_count": 24,
      "outputs": []
    },
    {
      "cell_type": "code",
      "source": [
        "from pyspark.sql.functions import col, udf\n",
        "from pyspark.sql.types import StructType, StructField, FloatType, LongType\n",
        "from itertools import combinations\n",
        "import pyspark.sql.functions as F\n",
        "import time\n",
        "from pyspark.sql.functions import least, greatest\n",
        "\n",
        "\n",
        "start_time = time.time()\n",
        "# Define the schema for the output of the combinations UDF\n",
        "schema = ArrayType(StructType([\n",
        "    StructField(\"doc1\", LongType(), False),\n",
        "    StructField(\"doc2\", LongType(), False)\n",
        "]))\n",
        "\n",
        "\n",
        "# Define the UDF for generating combinations\n",
        "@udf(schema)\n",
        "def combinations_udf(doc_ids):\n",
        "    return [(int(doc1), int(doc2)) for doc1, doc2 in combinations(doc_ids, 2)]\n",
        "\n",
        "\n",
        "# Define a UDF for Jaccard similarity\n",
        "@udf(FloatType())\n",
        "def jaccard_similarity_udf(doc1_shingles, doc2_shingles):\n",
        "    set1 = set(doc1_shingles)\n",
        "    set2 = set(doc2_shingles)\n",
        "    intersection = len(set1.intersection(set2))\n",
        "    union = len(set1.union(set2))\n",
        "    return float(intersection) / union if union != 0 else 0.0\n",
        "\n",
        "threshold = 0.1\n",
        "# Generate all pairs within each bucket\n",
        "candidate_pairs = candidate_pairs.withColumn(\"doc_pair\", explode(combinations_udf(\"doc_ids\")))\n",
        "candidate_pairs = candidate_pairs.withColumn(\n",
        "    \"min_doc_id\",\n",
        "    least(col(\"doc_pair.doc1\"), col(\"doc_pair.doc2\"))\n",
        ").withColumn(\n",
        "    \"max_doc_id\",\n",
        "    greatest(col(\"doc_pair.doc1\"), col(\"doc_pair.doc2\"))\n",
        ")\n",
        "\n",
        "# Drop duplicates\n",
        "candidate_pairs = candidate_pairs.dropDuplicates([\"min_doc_id\", \"max_doc_id\"])\n",
        "\n",
        "# Join with 'subset_df' to get the shingles for each document in the pair\n",
        "candidate_pairs = candidate_pairs.alias(\"cp\").join(\n",
        "    subset_df.alias(\"df1\"),\n",
        "    col(\"cp.doc_pair.doc1\") == col(\"df1.doc_id\")\n",
        ").join(\n",
        "    subset_df.alias(\"df2\"),\n",
        "    col(\"cp.doc_pair.doc2\") == col(\"df2.doc_id\")\n",
        ")\n",
        "\n",
        "# Calculate Jaccard similarity for each pair\n",
        "\n",
        "similar_pairs_df = candidate_pairs.select(\n",
        "    col(\"doc_pair.doc1\"),\n",
        "    col(\"doc_pair.doc2\"),\n",
        "    jaccard_similarity_udf(col(\"df1.sorted_shingles\"), col(\"df2.sorted_shingles\")).alias(\"similarity\")\n",
        ").filter(col(\"similarity\") >= threshold)"
      ],
      "metadata": {
        "id": "1aoqwD9G50hH"
      },
      "execution_count": 25,
      "outputs": []
    },
    {
      "cell_type": "code",
      "source": [
        "similar_pairs_df.show()\n",
        "\n",
        "end_time = time.time()\n",
        "\n",
        "elapsed_time = (end_time - start_time)/60\n",
        "print(f\"Computation time: {elapsed_time:.2f} minutes\")"
      ],
      "metadata": {
        "colab": {
          "base_uri": "https://localhost:8080/"
        },
        "id": "U40GF3KxxF4G",
        "outputId": "c62a7bac-ada7-4fa1-a75e-7707db026bc2"
      },
      "execution_count": 26,
      "outputs": [
        {
          "output_type": "stream",
          "name": "stdout",
          "text": [
            "+------------+------------+----------+\n",
            "|        doc1|        doc2|similarity|\n",
            "+------------+------------+----------+\n",
            "|635655227678|566935719078| 0.3063063|\n",
            "|420906916785|386547077846|0.28985506|\n",
            "|360777328859|386547077846|       0.5|\n",
            "|584115610772|523986041434| 0.4857143|\n",
            "|953482788151|867583497018|0.35211268|\n",
            "|549755856290|515396199416|0.51666665|\n",
            "|360777328859|420906916785|0.31428573|\n",
            "|773094128886|824633841832| 0.5825243|\n",
            "+------------+------------+----------+\n",
            "\n",
            "Computation time: 33.65 minutes\n"
          ]
        }
      ]
    },
    {
      "cell_type": "code",
      "source": [
        "from pyspark.sql.functions import collect_set\n",
        "\n",
        "start_time = time.time()\n",
        "# Explode the labels for each document and alias the DataFrame\n",
        "df_labels = df.withColumn(\"label\", explode(split(col(\"LABEL\"), \"\\|\"))).alias(\"df_labels\")\n",
        "\n",
        "# Alias the similar_pairs_df\n",
        "similar_pairs_alias = similar_pairs_df.alias(\"sp\")\n",
        "\n",
        "# Join to get labels for doc1 and doc2, then filter for shared labels\n",
        "# Use \"alias\" to avoid ambiguous reference to doc_id\n",
        "similar_pairs_with_shared_labels = (similar_pairs_alias\n",
        "    .join(df_labels, col(\"sp.doc1\") == col(\"df_labels.doc_id\"))\n",
        "    .join(df_labels.select(col(\"doc_id\").alias(\"doc_id2\"), col(\"label\").alias(\"label2\")), col(\"sp.doc2\") == col(\"doc_id2\"))\n",
        "    .filter(col(\"df_labels.label\") == col(\"label2\"))\n",
        ")\n",
        "\n",
        "# Select distinct pairs and their shared label\n",
        "distinct_pairs_with_labels = (similar_pairs_with_shared_labels\n",
        "    .select(col(\"sp.doc1\"), col(\"sp.doc2\"), col(\"sp.similarity\"), col(\"df_labels.label\"))\n",
        "    .distinct()\n",
        ")\n",
        "\n",
        "# Combine the sorting, grouping, and aggregation\n",
        "combined_labels_df = (distinct_pairs_with_labels\n",
        "                      .withColumn('doc_pair', F.array_sort(F.array('doc1', 'doc2')))\n",
        "                      .groupBy('doc_pair')\n",
        "                      .agg(\n",
        "                          F.collect_list('label').alias('shared_labels'),\n",
        "                          F.first('similarity').alias('similarity')\n",
        "                      ))\n",
        "\n"
      ],
      "metadata": {
        "id": "A4dJYX4sxJof"
      },
      "execution_count": 27,
      "outputs": []
    },
    {
      "cell_type": "code",
      "source": [
        "combined_labels_df.show(truncate=False)\n",
        "\n",
        "end_time = time.time()\n",
        "\n",
        "elapsed_time = (end_time - start_time)/60\n",
        "print(f\"Computation time: {elapsed_time:.2f} minutes\")"
      ],
      "metadata": {
        "colab": {
          "base_uri": "https://localhost:8080/"
        },
        "id": "XKuME33pxODj",
        "outputId": "90648a0e-ec62-43c1-c511-e41bbc832c33"
      },
      "execution_count": 28,
      "outputs": [
        {
          "output_type": "stream",
          "name": "stdout",
          "text": [
            "+----------------------------+--------------------+----------+\n",
            "|doc_pair                    |shared_labels       |similarity|\n",
            "+----------------------------+--------------------+----------+\n",
            "|[523986041434, 584115610772]|[disease management]|0.4857143 |\n",
            "|[360777328859, 420906916785]|[line, after]       |0.31428573|\n",
            "|[867583497018, 953482788151]|[appropriate]       |0.35211268|\n",
            "|[515396199416, 549755856290]|[electrophoresis]   |0.51666665|\n",
            "+----------------------------+--------------------+----------+\n",
            "\n",
            "Computation time: 39.38 minutes\n"
          ]
        }
      ]
    },
    {
      "cell_type": "code",
      "source": [
        "pairs = [\n",
        "    (360777328859, 386547077846, 0.5),\n",
        "    (773094128886, 824633841832, 0.5825243),\n",
        "    (360777328859, 420906916785, 0.31428573),\n",
        "    (515396199416, 549755856290, 0.51666665)\n",
        "\n",
        "]\n",
        "\n",
        "for (doc_id1, doc_id2, similarity) in pairs:\n",
        "    document_texts = df.filter((col(\"doc_id\") == doc_id1) | (col(\"doc_id\") == doc_id2))\n",
        "    document_texts = document_texts.select(\"TEXT\", \"LABEL\")\n",
        "\n",
        "    print(f\"Showing results for pair: {doc_id1}, {doc_id2} with similarity: {similarity}\")\n",
        "    document_texts.show(truncate=False)\n",
        "    print(\"\\n\" + \"-\"*50 + \"\\n\")"
      ],
      "metadata": {
        "colab": {
          "base_uri": "https://localhost:8080/"
        },
        "id": "VTfxRnC8gjyb",
        "outputId": "cfffbf6a-cd28-4c0d-c28c-bdad7408dc6a"
      },
      "execution_count": 36,
      "outputs": [
        {
          "output_type": "stream",
          "name": "stdout",
          "text": [
            "Showing results for pair: 360777328859, 386547077846 with similarity: 0.5\n",
            "+------------------------------------------------------------------------------------------------------------------------------------------------------------------------------------------------------------------------------------------------------------------------------------------------------------------------------------------------------------------------------------------------------------------------------------------------------------------------------+----------------------+\n",
            "|TEXT                                                                                                                                                                                                                                                                                                                                                                                                                                                                          |LABEL                 |\n",
            "+------------------------------------------------------------------------------------------------------------------------------------------------------------------------------------------------------------------------------------------------------------------------------------------------------------------------------------------------------------------------------------------------------------------------------------------------------------------------------+----------------------+\n",
            "|a short cut review was carried out to establish whether electrical stimulation had any advantages over facial exercises in promoting recovery T3 BP altogether papers were found using the reported search of which one presented the best evidence to answer the clinical question the author date and country of publication patient group studied study type relevant outcomes results and study weaknesses of this best paper are tabulated a clinical bottom L1 is stated|after|bells palsy|line|\n",
            "|a short cut review was carried out to establish whether outpatient investigation of suspected PE is a safe strategy a total of papers were found using the reported search of which one presented the best evidence to answer the clinical question the author date and country of publication patient group studied study type relevant outcomes results and study weaknesses of this best paper are tabulated a clinical bottom line is stated                              |pulmonary embolus     |\n",
            "+------------------------------------------------------------------------------------------------------------------------------------------------------------------------------------------------------------------------------------------------------------------------------------------------------------------------------------------------------------------------------------------------------------------------------------------------------------------------------+----------------------+\n",
            "\n",
            "\n",
            "--------------------------------------------------\n",
            "\n",
            "Showing results for pair: 773094128886, 824633841832 with similarity: 0.5825243\n",
            "+-------------------------------------------------------------------------------------------------------------------------------------------------------------------------------------------------------------------------------------------------------------------------------------------------------------------------------------------------------------------------------------------------------------------------------------------------------------------------------------------------------------------------------------------------------------------------------------------------------------------------------------------------------------------------------------------------------------------------------------------------------------------------------------------------------------------------------------------------------------------------------------------------------------------------------------------------------------------------------------------------------------------------------------+-----------+\n",
            "|TEXT                                                                                                                                                                                                                                                                                                                                                                                                                                                                                                                                                                                                                                                                                                                                                                                                                                                                                                                                                                                                                                 |LABEL      |\n",
            "+-------------------------------------------------------------------------------------------------------------------------------------------------------------------------------------------------------------------------------------------------------------------------------------------------------------------------------------------------------------------------------------------------------------------------------------------------------------------------------------------------------------------------------------------------------------------------------------------------------------------------------------------------------------------------------------------------------------------------------------------------------------------------------------------------------------------------------------------------------------------------------------------------------------------------------------------------------------------------------------------------------------------------------------+-----------+\n",
            "|each month subscribers to the formulary monograph service receive to welldocumented monographs on drugs that are newly released or are in late phase trials the monographs are targeted to pharmacy therapeutics committees subscribers also receive monthly page summary monographs on agents that are useful for agendas and pharmacynursing inservices a comprehensive target drug utilization evaluationmedication use DUE duemue is also provided each month with a subscription the monographs are sent in print and are also available online monographs can be customized to meet the needs of a facility a drug class review is now published monthly with the formulary monograph service through the cooperation of the formulary hospital pharmacy publishes selected reviews in this column for more information about the formulary monograph service call the formulary at the april monograph topics are dapagliflozin tasimelteon treprostinil diolamine avarofloxacin and idelalisib the duemue is on dapagliflozin|evaluation |\n",
            "|each month subscribers to the formulary monograph service receive to welldocumented monographs on drugs that are newly released or are in late phase trials the monographs are targeted to pharmacy therapeutics committees subscribers also receive monthly page summary monographs on agents that are useful for agendas and pharmacynursing inservices a comprehensive target drug utilization evaluationmedication use evaluation duemue is also provided each month with a subscription the monographs are sent in print and are also available online monographs can be customized to meet the needs of a facility a drug class review is now published monthly with the formulary monograph service through the cooperation of the formulary hospital pharmacy publishes selected reviews in cdnaglut transfected a cells originated tumors these results suggested that curcumin inhibit LC invasion and metastasis by attenuating glutmtmmpmmp pathway                                                                      |lung cancer|\n",
            "+-------------------------------------------------------------------------------------------------------------------------------------------------------------------------------------------------------------------------------------------------------------------------------------------------------------------------------------------------------------------------------------------------------------------------------------------------------------------------------------------------------------------------------------------------------------------------------------------------------------------------------------------------------------------------------------------------------------------------------------------------------------------------------------------------------------------------------------------------------------------------------------------------------------------------------------------------------------------------------------------------------------------------------------+-----------+\n",
            "\n",
            "\n",
            "--------------------------------------------------\n",
            "\n",
            "Showing results for pair: 360777328859, 420906916785 with similarity: 0.31428573\n",
            "+------------------------------------------------------------------------------------------------------------------------------------------------------------------------------------------------------------------------------------------------------------------------------------------------------------------------------------------------------------------------------------------------------------------------------------------------------------------------------------------------------------+----------------------+\n",
            "|TEXT                                                                                                                                                                                                                                                                                                                                                                                                                                                                                                        |LABEL                 |\n",
            "+------------------------------------------------------------------------------------------------------------------------------------------------------------------------------------------------------------------------------------------------------------------------------------------------------------------------------------------------------------------------------------------------------------------------------------------------------------------------------------------------------------+----------------------+\n",
            "|a short cut review was carried out to establish whether electrical stimulation had any advantages over facial exercises in promoting recovery T3 BP altogether papers were found using the reported search of which one presented the best evidence to answer the clinical question the author date and country of publication patient group studied study type relevant outcomes results and study weaknesses of this best paper are tabulated a clinical bottom L1 is stated                              |after|bells palsy|line|\n",
            "|a short cut review was carried out to establish whether intubation is always required in patients presenting with a decreased conscious level T3 gammahydroxybutyrate ingestion altogether papers were found using the reported search of which two presented the best evidence to answer the clinical question the author date and country of publication patient group studied study type relevant outcomes results and study weaknesses of these best papers are tabulated a clinical bottom L1 is stated|after|line            |\n",
            "+------------------------------------------------------------------------------------------------------------------------------------------------------------------------------------------------------------------------------------------------------------------------------------------------------------------------------------------------------------------------------------------------------------------------------------------------------------------------------------------------------------+----------------------+\n",
            "\n",
            "\n",
            "--------------------------------------------------\n",
            "\n",
            "Showing results for pair: 515396199416, 549755856290 with similarity: 0.51666665\n",
            "+---------------------------------------------------------------------------------------------------------------------------------------------------------------------------------------------------------------------------------------------------------------------------------------------------------------------------------------------------------------------------------------------------------------------------------------------------------------------------------------------------------------------------------------------------------------------------------------------------------------------------------------------------------------------------------------------------------------------------------------------------------------------------------------------------------------------------------------------------------------------------------------------------------------------------------------------------------------------------------------------------------------------------------------------------------------------------------------------------------------------------------------------------------------------------------------------------------------------------------------------------------------------------------------------------------------------------------------------------------------------+---------------+\n",
            "|TEXT                                                                                                                                                                                                                                                                                                                                                                                                                                                                                                                                                                                                                                                                                                                                                                                                                                                                                                                                                                                                                                                                                                                                                                                                                                                                                                                                                                 |LABEL          |\n",
            "+---------------------------------------------------------------------------------------------------------------------------------------------------------------------------------------------------------------------------------------------------------------------------------------------------------------------------------------------------------------------------------------------------------------------------------------------------------------------------------------------------------------------------------------------------------------------------------------------------------------------------------------------------------------------------------------------------------------------------------------------------------------------------------------------------------------------------------------------------------------------------------------------------------------------------------------------------------------------------------------------------------------------------------------------------------------------------------------------------------------------------------------------------------------------------------------------------------------------------------------------------------------------------------------------------------------------------------------------------------------------+---------------+\n",
            "|electrophoresis is used to separate complex mixtures of proteins eg from cells subcellular fractions column fractions or immunoprecipitates to investigate subunit compositions and to verify homogeneity of protein samples it can also serve to purify proteins for use in further applications in polyacrylamide gel electrophoresis proteins migrate in response to an electrical field through pores in a polyacrylamide gel matrix pore size decreases with increasing acrylamide concentration the combination of pore size and protein charge size and shape determines the migration rate of the protein in this unit the standard laemmli method is described for discontinuous gel PACE under denaturing conditions that is in the presence of sodium dodecyl sulfate sds both fullsize and minigel formats are detailed several modifications are provided for specific applications for separation of peptides and small proteins the standard buffers are replaced with either a tristricine buffer system or a modified tris buffer in the absence of urea continuous sdspage is a simplified method in which the same buffer is used for both the gel and the electrode solutions and the stacking gel is omitted other protocols cover the preparation and use of ultrathin gels and gradient gels and the simultaneous preparation of multiple gels|electrophoresis|\n",
            "|electrophoresis is used to separate complex mixtures of proteins eg from cells subcellular fractions column fractions or immunoprecipitates to investigate subunit compositions and to verify homogeneity of protein samples it can also serve to purify proteins for use in further applications in polyacrylamide gel electrophoresis proteins migrate in response to an electrical field through pores in a polyacrylamide gel matrix pore size decreases with increasing acrylamide concentration the combination of pore size and protein charge size and shape determines the migration rate of the protein in this unit the standard laemmli method is described for discontinuous gel PACE under denaturing conditions ie in the presence of sodium dodecyl sulfate sds                                                                                                                                                                                                                                                                                                                                                                                                                                                                                                                                                                                      |electrophoresis|\n",
            "+---------------------------------------------------------------------------------------------------------------------------------------------------------------------------------------------------------------------------------------------------------------------------------------------------------------------------------------------------------------------------------------------------------------------------------------------------------------------------------------------------------------------------------------------------------------------------------------------------------------------------------------------------------------------------------------------------------------------------------------------------------------------------------------------------------------------------------------------------------------------------------------------------------------------------------------------------------------------------------------------------------------------------------------------------------------------------------------------------------------------------------------------------------------------------------------------------------------------------------------------------------------------------------------------------------------------------------------------------------------------+---------------+\n",
            "\n",
            "\n",
            "--------------------------------------------------\n",
            "\n"
          ]
        }
      ]
    },
    {
      "cell_type": "markdown",
      "source": [
        "#Plot the Graphs"
      ],
      "metadata": {
        "id": "f2R1gYw0yWXi"
      }
    },
    {
      "cell_type": "code",
      "source": [
        "import matplotlib.pyplot as plt\n",
        "\n",
        "#Sample 1\n",
        "subset_df1 = [50000.0/df.count()]\n",
        "times_Jaccard1 = [12.74]\n",
        "times_Label1 = [17.80]\n",
        "\n",
        "#Sample2\n",
        "subset_df2 = [100000.0/df.count()]\n",
        "times_Jaccard2 = [18.53]\n",
        "times_Label2 = [24.92]\n",
        "\n",
        "#Sample3\n",
        "subset_df3 = [150000.0/df.count()]\n",
        "times_Jaccard3 = [23.22]\n",
        "times_Label3 = [29.75]\n",
        "\n",
        "#Sample4\n",
        "subset_df4 = [200000.0/df.count()]\n",
        "times_Jaccard4 = [28.83]\n",
        "times_Label4 = [35.30]\n",
        "\n",
        "#Sample5\n",
        "subset_df5 = [250000.0/df.count()]\n",
        "times_Jaccard5 = [33.65]\n",
        "times_Label5 = [39.38]"
      ],
      "metadata": {
        "id": "a_B-e9sR4Ct-"
      },
      "execution_count": 29,
      "outputs": []
    },
    {
      "cell_type": "code",
      "source": [
        "# Plot the graph for the Jaccard Similarity Analysis\n",
        "\n",
        "plt.figure(figsize=(10, 6))\n",
        "plt.plot(subset_df1, times_Jaccard1, subset_df2, times_Jaccard2,subset_df3, times_Jaccard3, subset_df4, times_Jaccard4, subset_df5, times_Jaccard5, marker='o', linestyle='-', color='b')  # Plot the data\n",
        "plt.title('Jaccard Similarity Analysis')\n",
        "plt.xlabel('Sample Size (%)')\n",
        "plt.ylabel('Time Taken (minutes)')\n",
        "plt.grid(True)\n",
        "plt.show()"
      ],
      "metadata": {
        "colab": {
          "base_uri": "https://localhost:8080/",
          "height": 564
        },
        "id": "mrMoGdVgyZF6",
        "outputId": "cd18c43f-3809-4c3c-99c4-c3870560f35a"
      },
      "execution_count": 30,
      "outputs": [
        {
          "output_type": "display_data",
          "data": {
            "text/plain": [
              "<Figure size 1000x600 with 1 Axes>"
            ],
            "image/png": "[encoded data removed]"
          },
          "metadata": {}
        }
      ]
    },
    {
      "cell_type": "code",
      "source": [
        "# Plot the graph for the Label Analysis\n",
        "\n",
        "plt.figure(figsize=(10, 6))\n",
        "plt.plot(subset_df1, times_Label1, subset_df2, times_Label2, subset_df3, times_Label3, subset_df4, times_Label4, subset_df5, times_Label5, marker='o', linestyle='-', color='b')  # Plot the data\n",
        "plt.title('Label Analysis')\n",
        "plt.xlabel('Sample Size (%)')\n",
        "plt.ylabel('Time Taken (minutes)')\n",
        "plt.grid(True)\n",
        "plt.show()\n"
      ],
      "metadata": {
        "colab": {
          "base_uri": "https://localhost:8080/",
          "height": 564
        },
        "id": "nfG3qdhbytNT",
        "outputId": "045249fe-315e-4104-df98-29766d7cf86f"
      },
      "execution_count": 31,
      "outputs": [
        {
          "output_type": "display_data",
          "data": {
            "text/plain": [
              "<Figure size 1000x600 with 1 Axes>"
            ],
            "image/png": "[encoded data removed]"
          },
          "metadata": {}
        }
      ]
    },
    {
      "cell_type": "markdown",
      "source": [
        "#Stop spark session"
      ],
      "metadata": {
        "id": "zcaPrBjaVhue"
      }
    },
    {
      "cell_type": "code",
      "source": [
        "spark.stop()"
      ],
      "metadata": {
        "id": "MMuwTLyLVjdv"
      },
      "execution_count": 37,
      "outputs": []
    }
  ]
}